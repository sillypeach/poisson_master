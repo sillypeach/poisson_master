{
 "cells": [
  {
   "metadata": {
    "ExecuteTime": {
     "end_time": "2024-07-08T16:00:42.932762Z",
     "start_time": "2024-07-08T16:00:42.895755Z"
    }
   },
   "cell_type": "code",
   "source": [
    "from tqdm import tqdm\n",
    "import patterns"
   ],
   "id": "7ba0fd380f4bb623",
   "outputs": [],
   "execution_count": 2
  },
  {
   "metadata": {
    "ExecuteTime": {
     "end_time": "2024-07-08T16:00:43.569581Z",
     "start_time": "2024-07-08T16:00:43.527746Z"
    }
   },
   "cell_type": "code",
   "source": [
    "import pandas as pd\n",
    "from tqdm import tqdm\n",
    "\n",
    "# 加载 CSV 文件\n",
    "df = pd.read_csv(r\"C:\\Users\\Admin\\PycharmProjects\\pythonProject1\\sparse_matrix_with_y.csv\")\n",
    "\n",
    "# 显示前几行数据\n",
    "print(df.head())\n",
    "\n",
    "# 假设 CSV 文件中的每一行代表一个事务\n",
    "feature_columns = [f'{i}' for i in range(39)]\n",
    "target_column = 'y'\n",
    "\n",
    "# 提取特征矩阵 X 和目标向量 y\n",
    "X = df[feature_columns].values\n",
    "y = df[target_column].values\n",
    "\n",
    "# 将 X 转换为事务列表格式\n",
    "transactions = []\n",
    "for row in tqdm(X, desc=\"Processing transactions\"):\n",
    "    transaction = [f'item_{i}' for i, val in enumerate(row) if val > 0]\n",
    "    transactions.append(transaction)\n",
    "\n",
    "# 创建包含事务和计数的 DataFrame\n",
    "transactions_df = pd.DataFrame({'transaction': transactions, 'count': y})\n",
    "\n",
    "# 显示前几行数据\n",
    "print(transactions_df.head())\n",
    "\n",
    "# 保存新的 DataFrame 到 CSV 文件\n",
    "output_file_path = r\"C:\\Users\\Admin\\PycharmProjects\\pythonProject1\\transactions_dataset.csv\"\n",
    "transactions_df.to_csv(output_file_path, index=False)\n",
    "\n",
    "print(f\"Transactions dataset saved to {output_file_path}\")\n",
    "\n"
   ],
   "id": "3b652c4ff9b2a803",
   "outputs": [
    {
     "name": "stdout",
     "output_type": "stream",
     "text": [
      "   0  1  2  3  4  5  6  7  8  9  ...  31  32  33  34  35  36  37  38  39   y\n",
      "0  0  1  0  0  0  0  0  0  0  1  ...   0   0   0   0   0   1   0   0   0   4\n",
      "1  0  0  1  1  0  0  0  0  1  1  ...   0   1   0   0   0   0   0   0   0   8\n",
      "2  0  0  1  0  0  0  1  0  0  1  ...   0   1   0   1   0   0   0   0   0   5\n",
      "3  0  1  1  0  1  0  0  0  0  1  ...   0   1   0   0   1   1   0   1   0  11\n",
      "4  0  0  1  0  0  0  1  0  0  1  ...   0   1   0   1   1   0   0   0   1   7\n",
      "\n",
      "[5 rows x 41 columns]\n"
     ]
    },
    {
     "name": "stderr",
     "output_type": "stream",
     "text": [
      "Processing transactions: 100%|██████████| 500/500 [00:00<00:00, 250018.12it/s]"
     ]
    },
    {
     "name": "stdout",
     "output_type": "stream",
     "text": [
      "                                         transaction  count\n",
      "0  [item_1, item_9, item_15, item_16, item_19, it...      4\n",
      "1  [item_2, item_3, item_8, item_9, item_13, item...      8\n",
      "2  [item_2, item_6, item_9, item_13, item_19, ite...      5\n",
      "3  [item_1, item_2, item_4, item_9, item_13, item...     11\n",
      "4  [item_2, item_6, item_9, item_13, item_15, ite...      7\n",
      "Transactions dataset saved to C:\\Users\\Admin\\PycharmProjects\\pythonProject1\\transactions_dataset.csv\n"
     ]
    },
    {
     "name": "stderr",
     "output_type": "stream",
     "text": [
      "\n"
     ]
    }
   ],
   "execution_count": 3
  },
  {
   "cell_type": "code",
   "id": "initial_id",
   "metadata": {
    "collapsed": true,
    "ExecuteTime": {
     "end_time": "2024-07-08T16:56:12.591453Z",
     "start_time": "2024-07-08T16:56:10.881222Z"
    }
   },
   "source": [
    "from skmine.itemsets import LCM\n",
    "lcm = LCM(min_supp=200, n_jobs=4)\n",
    "%time patterns = lcm.fit_transform(transactions)"
   ],
   "outputs": [
    {
     "name": "stdout",
     "output_type": "stream",
     "text": [
      "CPU times: total: 0 ns\n",
      "Wall time: 1.68 s\n"
     ]
    }
   ],
   "execution_count": 8
  },
  {
   "metadata": {
    "ExecuteTime": {
     "end_time": "2024-07-08T16:56:13.522700Z",
     "start_time": "2024-07-08T16:56:13.506299Z"
    }
   },
   "cell_type": "code",
   "source": [
    "print(patterns.shape)\n",
    "\n",
    "# 过滤出长度大于3的频繁项集\n",
    "filtered_patterns = patterns[patterns.itemset.map(len) >1]\n",
    "\n",
    "# 显示过滤后的结果\n",
    "print(filtered_patterns)\n",
    "print(f\"Total frequent itemsets found: {len(patterns)}\")\n"
   ],
   "id": "b6328698d95b5823",
   "outputs": [
    {
     "name": "stdout",
     "output_type": "stream",
     "text": [
      "(43, 2)\n",
      "                                         itemset  support\n",
      "2                              [item_13, item_2]      292\n",
      "4                              [item_2, item_32]      287\n",
      "5                             [item_13, item_32]      289\n",
      "6                     [item_13, item_2, item_32]      285\n",
      "9                             [item_21, item_27]      274\n",
      "12                             [item_1, item_21]      274\n",
      "13                             [item_1, item_27]      274\n",
      "14                    [item_1, item_21, item_27]      269\n",
      "16                            [item_21, item_36]      272\n",
      "17                            [item_27, item_36]      270\n",
      "18                             [item_1, item_36]      270\n",
      "19                    [item_1, item_21, item_36]      268\n",
      "20                    [item_1, item_27, item_36]      268\n",
      "21           [item_1, item_21, item_27, item_36]      267\n",
      "24                            [item_19, item_24]      268\n",
      "26                            [item_24, item_28]      264\n",
      "27                            [item_19, item_28]      267\n",
      "28                   [item_19, item_24, item_28]      263\n",
      "30                             [item_34, item_6]      269\n",
      "32                            [item_24, item_30]      263\n",
      "33                            [item_19, item_30]      266\n",
      "34                            [item_28, item_30]      266\n",
      "35                   [item_19, item_28, item_30]      263\n",
      "37                             [item_24, item_9]      265\n",
      "38                             [item_19, item_9]      264\n",
      "39                             [item_28, item_9]      263\n",
      "40                             [item_30, item_9]      265\n",
      "41                    [item_19, item_30, item_9]      263\n",
      "42  [item_19, item_24, item_28, item_30, item_9]      262\n",
      "Total frequent itemsets found: 43\n"
     ]
    }
   ],
   "execution_count": 9
  },
  {
   "metadata": {},
   "cell_type": "markdown",
   "source": "",
   "id": "adeb32866cd6779b"
  },
  {
   "metadata": {
    "ExecuteTime": {
     "end_time": "2024-07-08T16:56:15.853022Z",
     "start_time": "2024-07-08T16:56:15.811461Z"
    }
   },
   "cell_type": "code",
   "source": [
    "frequent_itemsets = filtered_patterns['itemset'].tolist()\n",
    "\n",
    "# 构建新的特征矩阵\n",
    "new_features = []\n",
    "for transaction in transactions:\n",
    "    feature_row = []\n",
    "    for itemset in frequent_itemsets:\n",
    "        # 判断 transaction 是否包含频繁项集\n",
    "        if set(itemset).issubset(set(transaction)):\n",
    "            feature_row.append(1)\n",
    "        else:\n",
    "            feature_row.append(0)\n",
    "    new_features.append(feature_row)\n",
    "\n",
    "# 将新的特征矩阵转换为 DataFrame\n",
    "new_features_df = pd.DataFrame(new_features, columns=[f'itemset_{i}' for i in range(len(frequent_itemsets))])\n",
    "\n",
    "# 添加目标列\n",
    "new_features_df['y'] = y\n",
    "\n",
    "# 显示前几行数据\n",
    "print(new_features_df.head())\n",
    "print(f\"Frequent itemsets with length > 3: {len(filtered_patterns)}\")\n"
   ],
   "id": "792e9673e05d75cc",
   "outputs": [
    {
     "name": "stdout",
     "output_type": "stream",
     "text": [
      "   itemset_0  itemset_1  itemset_2  itemset_3  itemset_4  itemset_5  \\\n",
      "0          0          0          0          0          1          1   \n",
      "1          1          1          1          1          0          0   \n",
      "2          1          1          1          1          0          0   \n",
      "3          1          1          1          1          1          1   \n",
      "4          1          1          1          1          0          0   \n",
      "\n",
      "   itemset_6  itemset_7  itemset_8  itemset_9  ...  itemset_20  itemset_21  \\\n",
      "0          1          1          1          1  ...           1           1   \n",
      "1          0          0          0          0  ...           1           1   \n",
      "2          0          0          0          0  ...           1           1   \n",
      "3          1          1          1          1  ...           1           1   \n",
      "4          0          0          0          0  ...           1           1   \n",
      "\n",
      "   itemset_22  itemset_23  itemset_24  itemset_25  itemset_26  itemset_27  \\\n",
      "0           1           1           1           1           1           1   \n",
      "1           1           1           1           1           1           1   \n",
      "2           1           1           1           1           1           1   \n",
      "3           1           1           1           1           1           1   \n",
      "4           1           1           1           1           1           1   \n",
      "\n",
      "   itemset_28   y  \n",
      "0           1   4  \n",
      "1           1   8  \n",
      "2           1   5  \n",
      "3           1  11  \n",
      "4           1   7  \n",
      "\n",
      "[5 rows x 30 columns]\n",
      "Frequent itemsets with length > 3: 29\n"
     ]
    }
   ],
   "execution_count": 10
  },
  {
   "metadata": {
    "ExecuteTime": {
     "end_time": "2024-07-08T16:56:16.894005Z",
     "start_time": "2024-07-08T16:56:16.864924Z"
    }
   },
   "cell_type": "code",
   "source": [
    "output_file_path = r'C:\\Users\\Admin\\PycharmProjects\\pythonProject1\\Newfeatures.csv' # 请替换为你想要保存的文件路径\n",
    "new_features_df.to_csv(output_file_path, index=False)"
   ],
   "id": "ebf358a506e23b0",
   "outputs": [],
   "execution_count": 11
  },
  {
   "metadata": {
    "ExecuteTime": {
     "end_time": "2024-07-03T12:26:21.522970Z",
     "start_time": "2024-07-03T12:26:21.510970Z"
    }
   },
   "cell_type": "code",
   "source": "",
   "id": "597093c3fbf0db9b",
   "outputs": [],
   "execution_count": 21
  },
  {
   "metadata": {
    "ExecuteTime": {
     "end_time": "2024-07-03T12:26:21.961484Z",
     "start_time": "2024-07-03T12:26:21.956484Z"
    }
   },
   "cell_type": "code",
   "source": "",
   "id": "b5a9aea08598c666",
   "outputs": [],
   "execution_count": 21
  },
  {
   "metadata": {
    "ExecuteTime": {
     "end_time": "2024-07-03T12:26:22.434916Z",
     "start_time": "2024-07-03T12:26:22.419916Z"
    }
   },
   "cell_type": "code",
   "source": "",
   "id": "5a04bb74cb016c54",
   "outputs": [],
   "execution_count": 21
  },
  {
   "metadata": {},
   "cell_type": "code",
   "outputs": [],
   "execution_count": null,
   "source": "",
   "id": "4afbaa47066cd14f"
  }
 ],
 "metadata": {
  "kernelspec": {
   "display_name": "Python 3",
   "language": "python",
   "name": "python3"
  },
  "language_info": {
   "codemirror_mode": {
    "name": "ipython",
    "version": 2
   },
   "file_extension": ".py",
   "mimetype": "text/x-python",
   "name": "python",
   "nbconvert_exporter": "python",
   "pygments_lexer": "ipython2",
   "version": "2.7.6"
  }
 },
 "nbformat": 4,
 "nbformat_minor": 5
}
