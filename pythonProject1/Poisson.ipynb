{
 "cells": [
  {
   "metadata": {},
   "cell_type": "code",
   "outputs": [],
   "execution_count": null,
   "source": [
    "class active_set:\n",
    "    def __init__(self,beta,lambda_):\n",
    "        self.beta = beta\n",
    "        self.lambda_ = lambda_\n",
    "        self.active_set ={}\n",
    "    def add_to_active_set(self,index):\n",
    "        if index not in self.active_set:\n",
    "            self.active_set[index] = self.beta[index]\n",
    "    def remove_from_active_set(self,index):\n",
    "        if index in self.active_set:\n",
    "            del self.active_set[index]\n",
    "    def get_active_set(self):\n",
    "        \"\"\"获取当前的活动集\"\"\"\n",
    "        return self.active_set\n",
    "\n",
    "    def get_complementary_set(self):\n",
    "        \"\"\"获取活动集的补集\"\"\"\n",
    "        full_set_indices = set(range(len(self.beta)))  # 全集的索引\n",
    "        active_set_indices = set(self.active_set.keys())  # 活动集的索引\n",
    "        complementary_indices = full_set_indices - active_set_indices  # 计算补集的索引\n",
    "\n",
    "        # 构建补集\n",
    "        complementary_set = {index: self.beta[index] for index in complementary_indices}\n",
    "\n",
    "        return complementary_set"
   ],
   "id": "514af7fc8116af69"
  },
  {
   "cell_type": "code",
   "id": "initial_id",
   "metadata": {
    "collapsed": true,
    "ExecuteTime": {
     "end_time": "2024-08-07T12:07:44.042989Z",
     "start_time": "2024-08-07T12:07:44.028971Z"
    }
   },
   "source": [
    "import numpy as np\n",
    "import math\n",
    "class Poissonmethod:\n",
    "    @staticmethod\n",
    "    def poissonexpression(X,beta):\n",
    "        return np.exp(np.dot(X,beta))\n",
    "    @staticmethod\n",
    "    def pmf(k,mu):\n",
    "        return (mu**k * math.exp(-mu)) / math.factorial(k)\n",
    "    @staticmethod\n",
    "    def loglikelihood(X,beta,y):\n",
    "        mu=Poissonmethod.poissonexpression(X,beta)\n",
    "        log_likelihood = np.sum(y * np.log(mu) - mu- np.log(np.array([math.factorial(i) for i in y])))\n",
    "        return log_likelihood\n",
    "    @staticmethod\n",
    "    def MLEwithL1(X,beta,y,L1):\n",
    "        loglikelihood=Poissonmethod.loglikelihood(X,beta,y)\n",
    "        return -loglikelihood+L1*np.sum(np.abs(beta))\n",
    "    def gradient(X,beta,y):\n",
    "        mu=Poissonmethod.poissonexpression(X,beta)\n",
    "        gradident=np.dot(X.T,(y-mu))\n",
    "        return -gradident\n",
    "\n",
    "    @staticmethod\n",
    "    def d_beta_d_lambda(X, beta, y, L1):\n",
    "        sign_beta = np.sign(beta)\n",
    "        d_beta_d_lambda = np.zeros_like(beta)\n",
    "\n",
    "        for j in range(len(beta)):\n",
    "            numerator = sign_beta[j]\n",
    "            denominator = np.sum(X[:, j] ** 2 * np.exp(X @ beta))\n",
    "            d_beta_d_lambda[j] = numerator / denominator\n",
    "\n",
    "        return d_beta_d_lambda\n",
    "    \n",
    "\n",
    "\n"
   ],
   "outputs": [],
   "execution_count": 18
  },
  {
   "metadata": {
    "ExecuteTime": {
     "end_time": "2024-08-07T12:14:23.359806Z",
     "start_time": "2024-08-07T12:14:23.353962Z"
    }
   },
   "cell_type": "code",
   "source": [
    "import numpy as np\n",
    "from Poissonmethod import Poissonmethod\n",
    "\n",
    "class Poisson_regularization_path:\n",
    "    def __init__(self, X, y):\n",
    "        self.X = X\n",
    "        self.y = y\n",
    "        self.beta = np.zeros(X.shape[1])  # 初始化beta为0\n",
    "        self.lambda_=np.inf\n",
    "        beta_total=np.sum(np.abs(self.beta))\n",
    "        #lossfunction\n",
    "        self.FunctionJ=Poissonmethod.MLEwithL1(self.X,self.beta,self.y,self.lambda_)+self.lambda_*beta_total\n",
    "        self.J_with_Partialdiff=Poissonmethod.gradient(X,self.beta,y)+np.sign(self.beta)\n",
    "        self.d_lambda_d_beta=Poissonmethod.d_beta_d_lambda(self.X,self.beta,self.y,self.lambda_)\n",
    "        self.active_set=active_set(self.beta,self.lambda_)\n",
    "        \n",
    "        \n",
    "        "
   ],
   "id": "d2c3388e5fb7ca1f",
   "outputs": [],
   "execution_count": 21
  },
  {
   "metadata": {
    "ExecuteTime": {
     "end_time": "2024-08-07T12:45:42.526897Z",
     "start_time": "2024-08-07T12:45:42.518877Z"
    }
   },
   "cell_type": "code",
   "source": [
    "    def analytical_solution(self):\n",
    "        X = self.X\n",
    "        y = self.y\n",
    "        n, p = X.shape\n",
    "        \n",
    "        # 初始化L1\n",
    "        L1 = 0.1\n",
    "        epsilon = 1e-6  # 添加一个小的偏置量，防止L1变为零\n",
    "        \n",
    "        for j in range(p):\n",
    "            sum_term = np.sum(X[:, j] * (y - np.exp(X @ self.beta)))\n",
    "            print(f'Iteration {j}, sum_term: {sum_term}')\n",
    "            self.beta[j] = (1 / (L1)) * sum_term\n",
    "        \n",
    "        # 更新L1\n",
    "        L1 = np.linalg.norm(self.beta, 1) / (np.linalg.norm(X.T @ (y - np.exp(X @ self.beta)), 1) + epsilon)\n",
    "        print(f'Updated L1: {L1}')\n",
    "        \n",
    "        return self.beta, L1\n",
    "\n",
    "    "
   ],
   "id": "8857631f3c030f1d",
   "outputs": [],
   "execution_count": 25
  },
  {
   "metadata": {
    "ExecuteTime": {
     "end_time": "2024-08-07T12:45:43.200680Z",
     "start_time": "2024-08-07T12:45:43.193775Z"
    }
   },
   "cell_type": "code",
   "source": [
    "     def d_lambda_d_beta(self):\n",
    "        X = self.X\n",
    "        beta = self.beta\n",
    "        n, p = X.shape\n",
    "        \n",
    "        d_lambda_d_beta = np.zeros_like(beta)\n",
    "        \n",
    "        for j in range(p):\n",
    "            numerator = np.sum(X[:, j] ** 2 * np.exp(np.clip(X @ beta, -100, 100)))  # Clip to avoid overflow\n",
    "            denominator = np.sign(beta[j])\n",
    "            if denominator != 0:\n",
    "                d_lambda_d_beta[j] = numerator / denominator\n",
    "            else:\n",
    "                d_lambda_d_beta[j] = 0\n",
    "        \n",
    "        return d_lambda_d_beta\n",
    "\n",
    "    "
   ],
   "id": "4fafdbbf578041e6",
   "outputs": [],
   "execution_count": 26
  },
  {
   "metadata": {
    "ExecuteTime": {
     "end_time": "2024-08-07T13:09:04.155262Z",
     "start_time": "2024-08-07T13:09:04.140202Z"
    }
   },
   "cell_type": "code",
   "source": [
    "    def calculate_cl(self, l):\n",
    "        n = self.X.shape[0]\n",
    "        self.cl = 0  # 初始化累加变量\n",
    "\n",
    "        for i in range(n):  # 遍历每一行\n",
    "            self.cl += -self.X[i,l] * (-self.y[l] - np.exp(self.X[i, l] * self.beta[l]))\n",
    "\n",
    "        return self.cl   "
   ],
   "id": "6ad9d6729322e9aa",
   "outputs": [],
   "execution_count": 28
  },
  {
   "metadata": {},
   "cell_type": "code",
   "outputs": [],
   "execution_count": null,
   "source": [
    "    def calculate_dl(self,l):\n",
    "        n=self.X.shape[0]\n",
    "        self.dl = 0\n",
    "        \n",
    "        for i in range(n):\n",
    "            self.dl += self.X[i, l]**2 *np.exp(self.X[i][l]*self.beta[l])*self.d_lambda_d_beta()[l]\n",
    "        return self.dl"
   ],
   "id": "43313f4b87b4fef"
  },
  {
   "metadata": {},
   "cell_type": "markdown",
   "source": "",
   "id": "344ae8813952228e"
  },
  {
   "metadata": {},
   "cell_type": "code",
   "outputs": [],
   "execution_count": null,
   "source": [
    "    def upadate_active_set(self,l):\n",
    "        active_set=self.active_set.get_active_set(self)\n",
    "        lambda_=active_set.lambda_\n",
    "        cl=Poisson_regularization_path.calculate_cl(self,l)\n",
    "        non_active_set=self.active_set.get_complementary_set(self)\n",
    "        if l in active_set:\n",
    "            if abs(cl) < lambda_:\n",
    "                self.active_set.remove_from_active_set(l)\n",
    "        if l in non_active_set:\n",
    "            if abs(cl)==lambda_:\n",
    "                self.active_set.add_to_active_set(l)"
   ],
   "id": "1ee6303eab9de86c"
  },
  {
   "metadata": {},
   "cell_type": "code",
   "outputs": [],
   "execution_count": null,
   "source": [
    "    def step_length(self,active_set):\n",
    "        beta=self.beta\n",
    "        lambda_ = active_set.lambda_\n",
    "        non_active_set=active_set.get_complementary_set(self)\n",
    "        cl=Poisson_regularization_path.calculate_cl(self,lambda_)\n",
    "        dl=Poisson_regularization_path.calculate_dl(self,lambda_)\n",
    "        d_lambda_add=float('inf')\n",
    "        for i in  non_active_set:\n",
    "           d_lambda_add= min((lambda_-cl)/(dl-1),(lambda_+cl)/(-dl-1))\n",
    "        d_lambda_remove=float('inf')\n",
    "        for i in active_set:\n",
    "            d_lambda_remove=min(-beta[i]*Poisson_regularization_path.d_lambda_d_beta(self))\n",
    "        d_delta=min(d_lambda_remove,d_lambda_add)\n",
    "        return d_delta\n",
    "        "
   ],
   "id": "ff795bf1551320fd"
  },
  {
   "metadata": {},
   "cell_type": "code",
   "outputs": [],
   "execution_count": null,
   "source": [
    "    def predict(self,active_set):\n",
    "        lambda_=active_set.lambda_\n",
    "        beta=active_set.beta\n",
    "        newbeta=np.zeros_like(beta)\n",
    "        step_length=self.step_length(active_set)\n",
    "        d_lambda_db=self.step_length()\n",
    "        newbeta = np.zeros_like(beta)\n",
    "        for i in range(len(beta)):\n",
    "            newbeta[i] = beta[i] + step_length* d_lambda_db[i]\n",
    "\n",
    "        return newbeta\n",
    "    "
   ],
   "id": "cb277ddf3a1aec5c"
  },
  {
   "metadata": {},
   "cell_type": "code",
   "outputs": [],
   "execution_count": null,
   "source": [
    "    def predict_and_correct(self):\n",
    "    # 使用 predict 函数找到一个近似值\n",
    "        beta_approx = self.predict(self.active_set)\n",
    "    \n",
    "    # 使用坐标下降法修正 beta 值\n",
    "        beta_corrected = self.coordinate_descent(beta_approx)\n",
    "    \n",
    "    # 更新 beta\n",
    "        self.beta = beta_corrected"
   ],
   "id": "aeb1e1dcf8aa49a9"
  },
  {
   "metadata": {},
   "cell_type": "code",
   "outputs": [],
   "execution_count": null,
   "source": [
    "    def update_beta(self, beta_l, gradient):\n",
    "        \"\"\"根据梯度更新beta[l]\"\"\"\n",
    "        # 使用梯度下降法更新 beta_l\n",
    "        beta_l_updated = beta_l - self.learning_rate * gradient\n",
    "        return beta_l_updated"
   ],
   "id": "4564b97795d4307f"
  },
  {
   "metadata": {},
   "cell_type": "code",
   "outputs": [],
   "execution_count": null,
   "source": [
    "    def coordinate_descent(self, beta_approx):\n",
    "        max_iterations = 100  # 设置最大迭代次数\n",
    "        tolerance = 1e-6  # 设置收敛容忍度\n",
    "        beta = beta_approx.copy()\n",
    "    \n",
    "    \n",
    "        for iteration in range(max_iterations):\n",
    "            beta_old = beta.copy()\n",
    "            for l in self.active_set.get_active_set():\n",
    "            # 计算梯度更新\n",
    "                gradient = self.calculate_gradient(l)\n",
    "                beta[l] = self.update_beta(beta[l], gradient)  # 这里需要实现 update_beta 函数\n",
    "            \n",
    "        # 检查收敛\n",
    "            if np.linalg.norm(beta - beta_old) < tolerance:\n",
    "                break\n",
    "    \n",
    "        return beta"
   ],
   "id": "85875f13e5c69789"
  },
  {
   "metadata": {},
   "cell_type": "code",
   "outputs": [],
   "execution_count": null,
   "source": [
    "    def regularization_path(self):\n",
    "    # 初始化\n",
    "        self.initialize()\n",
    "    \n",
    "        while True:\n",
    "        # 计算步长并更新 lambda\n",
    "            d_delta = self.step_length()\n",
    "            self.lambda_ -= d_delta\n",
    "        \n",
    "        # 更新活动集\n",
    "            self.update_active_set()\n",
    "        \n",
    "        # 预测并修正 beta\n",
    "            self.predict_and_correct()\n",
    "        \n",
    "        # 终止条件：活动集不再变化，或 lambda 变得非常小\n",
    "            if self.lambda_ < 1e-6 or not self.active_set.get_active_set():\n",
    "                break\n",
    "    \n",
    "        return self.beta"
   ],
   "id": "21ea5499518ea867"
  },
  {
   "metadata": {
    "ExecuteTime": {
     "end_time": "2024-08-17T09:20:55.326010Z",
     "start_time": "2024-08-17T09:20:55.298969Z"
    }
   },
   "cell_type": "code",
   "source": [
    "\n",
    "    X = np.array([[1, 2, 3], \n",
    "              [4, 5, 6], \n",
    "              [7, 8, 9]])\n",
    "\n",
    "    y = np.array([1, 2, 3])  # 简单的目标变量# 初始化 Poisson_regularization_path 实例\n",
    "\n",
    "\n",
    "# 测试正则化路径函数\n",
    "    beta_result = regularization_path()\n",
    "\n",
    "# 输出结果print(\"最终的 beta 值:\", beta_result)\n",
    "    print(beta_result)"
   ],
   "id": "9e721eb56d82aa57",
   "outputs": [
    {
     "ename": "NameError",
     "evalue": "name 'regularization_path' is not defined",
     "output_type": "error",
     "traceback": [
      "\u001B[1;31m---------------------------------------------------------------------------\u001B[0m",
      "\u001B[1;31mNameError\u001B[0m                                 Traceback (most recent call last)",
      "Cell \u001B[1;32mIn[6], line 9\u001B[0m\n\u001B[0;32m      5\u001B[0m y \u001B[38;5;241m=\u001B[39m np\u001B[38;5;241m.\u001B[39marray([\u001B[38;5;241m1\u001B[39m, \u001B[38;5;241m2\u001B[39m, \u001B[38;5;241m3\u001B[39m])  \u001B[38;5;66;03m# 简单的目标变量# 初始化 Poisson_regularization_path 实例\u001B[39;00m\n\u001B[0;32m      8\u001B[0m \u001B[38;5;66;03m# 测试正则化路径函数\u001B[39;00m\n\u001B[1;32m----> 9\u001B[0m beta_result \u001B[38;5;241m=\u001B[39m \u001B[43mregularization_path\u001B[49m()\n\u001B[0;32m     11\u001B[0m \u001B[38;5;66;03m# 输出结果print(\"最终的 beta 值:\", beta_result)\u001B[39;00m\n\u001B[0;32m     12\u001B[0m \u001B[38;5;28mprint\u001B[39m(beta_result)\n",
      "\u001B[1;31mNameError\u001B[0m: name 'regularization_path' is not defined"
     ]
    }
   ],
   "execution_count": 6
  },
  {
   "metadata": {},
   "cell_type": "code",
   "outputs": [],
   "execution_count": null,
   "source": "",
   "id": "58f025988efbbcbc"
  }
 ],
 "metadata": {
  "kernelspec": {
   "display_name": "Python 3",
   "language": "python",
   "name": "python3"
  },
  "language_info": {
   "codemirror_mode": {
    "name": "ipython",
    "version": 2
   },
   "file_extension": ".py",
   "mimetype": "text/x-python",
   "name": "python",
   "nbconvert_exporter": "python",
   "pygments_lexer": "ipython2",
   "version": "2.7.6"
  }
 },
 "nbformat": 4,
 "nbformat_minor": 5
}
