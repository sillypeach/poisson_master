{
 "cells": [
  {
   "cell_type": "code",
   "id": "initial_id",
   "metadata": {
    "collapsed": true,
    "ExecuteTime": {
     "end_time": "2024-07-23T07:44:01.377272Z",
     "start_time": "2024-07-23T07:44:01.363658Z"
    }
   },
   "source": [
    "import numpy as np\n",
    "import math\n",
    "class Poissonmethod:\n",
    "    @staticmethod\n",
    "    def poissonexpression(X,beta):\n",
    "        return np.exp(np.dot(X,beta))\n",
    "    @staticmethod\n",
    "    def pmf(k,mu):\n",
    "        return (mu**k * math.exp(-mu)) / math.factorial(k)\n",
    "    @staticmethod\n",
    "    def loglikelihood(X,beta,y):\n",
    "        mu=Poissonmethod.poissonexpression(X,beta)\n",
    "        log_likelihood = np.sum(y * np.log(mu) - mu- np.log(np.array([math.factorial(i) for i in y])))\n",
    "        return log_likelihood\n",
    "    @staticmethod\n",
    "    def MLEwithL1(X,beta,y,L1):\n",
    "        loglikelihood=Poissonmethod.loglikelihood(X,beta,y)\n",
    "        return -loglikelihood+L1*np.sum(np.abs(beta))\n",
    "    def gradient(X,beta,y,L1):\n",
    "        mu=Poissonmethod.poissonexpression(X,beta)\n",
    "        gradident=np.dot(X.T,(y-mu))\n",
    "        l1=L1*np.sign(beta)\n",
    "        return -gradident+l1\n",
    "    \n",
    "        "
   ],
   "outputs": [],
   "execution_count": 28
  },
  {
   "metadata": {
    "ExecuteTime": {
     "end_time": "2024-07-23T09:02:24.673584Z",
     "start_time": "2024-07-23T09:02:24.597458Z"
    }
   },
   "cell_type": "code",
   "source": [
    "import glmnet_py\n",
    "help(glmnet_py)"
   ],
   "id": "8a01ddfe1bcb28c8",
   "outputs": [
    {
     "ename": "AttributeError",
     "evalue": "Module 'scipy' has no attribute 'empty'",
     "output_type": "error",
     "traceback": [
      "\u001B[1;31m---------------------------------------------------------------------------\u001B[0m",
      "\u001B[1;31mKeyError\u001B[0m                                  Traceback (most recent call last)",
      "File \u001B[1;32m~\\PycharmProjects\\pythonProject1\\.venv\\lib\\site-packages\\scipy\\__init__.py:150\u001B[0m, in \u001B[0;36m__getattr__\u001B[1;34m(name)\u001B[0m\n\u001B[0;32m    149\u001B[0m \u001B[38;5;28;01mtry\u001B[39;00m:\n\u001B[1;32m--> 150\u001B[0m     \u001B[38;5;28;01mreturn\u001B[39;00m \u001B[38;5;28;43mglobals\u001B[39;49m\u001B[43m(\u001B[49m\u001B[43m)\u001B[49m\u001B[43m[\u001B[49m\u001B[43mname\u001B[49m\u001B[43m]\u001B[49m\n\u001B[0;32m    151\u001B[0m \u001B[38;5;28;01mexcept\u001B[39;00m \u001B[38;5;167;01mKeyError\u001B[39;00m:\n",
      "\u001B[1;31mKeyError\u001B[0m: 'empty'",
      "\nDuring handling of the above exception, another exception occurred:\n",
      "\u001B[1;31mAttributeError\u001B[0m                            Traceback (most recent call last)",
      "Cell \u001B[1;32mIn[31], line 1\u001B[0m\n\u001B[1;32m----> 1\u001B[0m \u001B[38;5;28;01mimport\u001B[39;00m \u001B[38;5;21;01mglmnet_py\u001B[39;00m\n\u001B[0;32m      2\u001B[0m help(glmnet_py)\n",
      "File \u001B[1;32m~\\PycharmProjects\\pythonProject1\\.venv\\lib\\site-packages\\glmnet_py\\__init__.py:10\u001B[0m\n\u001B[0;32m      8\u001B[0m \u001B[38;5;28;01mfrom\u001B[39;00m \u001B[38;5;21;01m.\u001B[39;00m\u001B[38;5;21;01mglmnetPlot\u001B[39;00m \u001B[38;5;28;01mimport\u001B[39;00m glmnetPlot \n\u001B[0;32m      9\u001B[0m \u001B[38;5;28;01mfrom\u001B[39;00m \u001B[38;5;21;01m.\u001B[39;00m\u001B[38;5;21;01mglmnetPrint\u001B[39;00m \u001B[38;5;28;01mimport\u001B[39;00m glmnetPrint\n\u001B[1;32m---> 10\u001B[0m \u001B[38;5;28;01mfrom\u001B[39;00m \u001B[38;5;21;01m.\u001B[39;00m\u001B[38;5;21;01mglmnetCoef\u001B[39;00m \u001B[38;5;28;01mimport\u001B[39;00m glmnetCoef\n\u001B[0;32m     11\u001B[0m \u001B[38;5;28;01mfrom\u001B[39;00m \u001B[38;5;21;01m.\u001B[39;00m\u001B[38;5;21;01mglmnetPredict\u001B[39;00m \u001B[38;5;28;01mimport\u001B[39;00m glmnetPredict\n\u001B[0;32m     12\u001B[0m \u001B[38;5;28;01mfrom\u001B[39;00m \u001B[38;5;21;01m.\u001B[39;00m\u001B[38;5;21;01mcvglmnet\u001B[39;00m \u001B[38;5;28;01mimport\u001B[39;00m cvglmnet\n",
      "File \u001B[1;32m~\\PycharmProjects\\pythonProject1\\.venv\\lib\\site-packages\\glmnet_py\\glmnetCoef.py:72\u001B[0m\n\u001B[0;32m      2\u001B[0m \u001B[38;5;124;03m\"\"\"\u001B[39;00m\n\u001B[0;32m      3\u001B[0m \u001B[38;5;124;03m--------------------------------------------------------------------------\u001B[39;00m\n\u001B[0;32m      4\u001B[0m \u001B[38;5;124;03m glmnetCoef computes coefficients from a \"glmnet\" object.\u001B[39;00m\n\u001B[1;32m   (...)\u001B[0m\n\u001B[0;32m     68\u001B[0m \n\u001B[0;32m     69\u001B[0m \u001B[38;5;124;03m\"\"\"\u001B[39;00m\n\u001B[0;32m     71\u001B[0m \u001B[38;5;28;01mimport\u001B[39;00m \u001B[38;5;21;01mscipy\u001B[39;00m\n\u001B[1;32m---> 72\u001B[0m \u001B[38;5;28;01mfrom\u001B[39;00m \u001B[38;5;21;01mglmnetPredict\u001B[39;00m \u001B[38;5;28;01mimport\u001B[39;00m glmnetPredict\n\u001B[0;32m     74\u001B[0m \u001B[38;5;28;01mdef\u001B[39;00m \u001B[38;5;21mglmnetCoef\u001B[39m(obj, s \u001B[38;5;241m=\u001B[39m \u001B[38;5;28;01mNone\u001B[39;00m, exact \u001B[38;5;241m=\u001B[39m \u001B[38;5;28;01mFalse\u001B[39;00m):\n\u001B[0;32m     76\u001B[0m     \u001B[38;5;28;01mif\u001B[39;00m s \u001B[38;5;129;01mis\u001B[39;00m \u001B[38;5;28;01mNone\u001B[39;00m:\n",
      "File \u001B[1;32m~\\PycharmProjects\\pythonProject1\\.venv\\lib\\site-packages\\glmnet_py\\glmnetPredict.py:110\u001B[0m\n\u001B[0;32m    106\u001B[0m \u001B[38;5;28;01mimport\u001B[39;00m \u001B[38;5;21;01mscipy\u001B[39;00m\n\u001B[0;32m    107\u001B[0m \u001B[38;5;28;01mimport\u001B[39;00m \u001B[38;5;21;01mscipy\u001B[39;00m\u001B[38;5;21;01m.\u001B[39;00m\u001B[38;5;21;01minterpolate\u001B[39;00m\n\u001B[0;32m    109\u001B[0m \u001B[38;5;28;01mdef\u001B[39;00m \u001B[38;5;21mglmnetPredict\u001B[39m(fit,\\\n\u001B[1;32m--> 110\u001B[0m                   newx \u001B[38;5;241m=\u001B[39m \u001B[43mscipy\u001B[49m\u001B[38;5;241;43m.\u001B[39;49m\u001B[43mempty\u001B[49m([\u001B[38;5;241m0\u001B[39m]), \\\n\u001B[0;32m    111\u001B[0m                   s \u001B[38;5;241m=\u001B[39m scipy\u001B[38;5;241m.\u001B[39mempty([\u001B[38;5;241m0\u001B[39m]), \\\n\u001B[0;32m    112\u001B[0m                   ptype \u001B[38;5;241m=\u001B[39m \u001B[38;5;124m'\u001B[39m\u001B[38;5;124mlink\u001B[39m\u001B[38;5;124m'\u001B[39m, \\\n\u001B[0;32m    113\u001B[0m                   exact \u001B[38;5;241m=\u001B[39m \u001B[38;5;28;01mFalse\u001B[39;00m, \\\n\u001B[0;32m    114\u001B[0m                   offset \u001B[38;5;241m=\u001B[39m scipy\u001B[38;5;241m.\u001B[39mempty([\u001B[38;5;241m0\u001B[39m])):\n\u001B[0;32m    116\u001B[0m     typebase \u001B[38;5;241m=\u001B[39m [\u001B[38;5;124m'\u001B[39m\u001B[38;5;124mlink\u001B[39m\u001B[38;5;124m'\u001B[39m, \u001B[38;5;124m'\u001B[39m\u001B[38;5;124mresponse\u001B[39m\u001B[38;5;124m'\u001B[39m, \u001B[38;5;124m'\u001B[39m\u001B[38;5;124mcoefficients\u001B[39m\u001B[38;5;124m'\u001B[39m, \u001B[38;5;124m'\u001B[39m\u001B[38;5;124mnonzero\u001B[39m\u001B[38;5;124m'\u001B[39m, \u001B[38;5;124m'\u001B[39m\u001B[38;5;124mclass\u001B[39m\u001B[38;5;124m'\u001B[39m]\n\u001B[0;32m    117\u001B[0m     indxtf   \u001B[38;5;241m=\u001B[39m [x\u001B[38;5;241m.\u001B[39mstartswith(ptype\u001B[38;5;241m.\u001B[39mlower()) \u001B[38;5;28;01mfor\u001B[39;00m x \u001B[38;5;129;01min\u001B[39;00m typebase]\n",
      "File \u001B[1;32m~\\PycharmProjects\\pythonProject1\\.venv\\lib\\site-packages\\scipy\\__init__.py:152\u001B[0m, in \u001B[0;36m__getattr__\u001B[1;34m(name)\u001B[0m\n\u001B[0;32m    150\u001B[0m     \u001B[38;5;28;01mreturn\u001B[39;00m \u001B[38;5;28mglobals\u001B[39m()[name]\n\u001B[0;32m    151\u001B[0m \u001B[38;5;28;01mexcept\u001B[39;00m \u001B[38;5;167;01mKeyError\u001B[39;00m:\n\u001B[1;32m--> 152\u001B[0m     \u001B[38;5;28;01mraise\u001B[39;00m \u001B[38;5;167;01mAttributeError\u001B[39;00m(\n\u001B[0;32m    153\u001B[0m         \u001B[38;5;124mf\u001B[39m\u001B[38;5;124m\"\u001B[39m\u001B[38;5;124mModule \u001B[39m\u001B[38;5;124m'\u001B[39m\u001B[38;5;124mscipy\u001B[39m\u001B[38;5;124m'\u001B[39m\u001B[38;5;124m has no attribute \u001B[39m\u001B[38;5;124m'\u001B[39m\u001B[38;5;132;01m{\u001B[39;00mname\u001B[38;5;132;01m}\u001B[39;00m\u001B[38;5;124m'\u001B[39m\u001B[38;5;124m\"\u001B[39m\n\u001B[0;32m    154\u001B[0m     )\n",
      "\u001B[1;31mAttributeError\u001B[0m: Module 'scipy' has no attribute 'empty'"
     ]
    }
   ],
   "execution_count": 31
  },
  {
   "metadata": {
    "ExecuteTime": {
     "end_time": "2024-07-23T07:44:03.649025Z",
     "start_time": "2024-07-23T07:44:03.628501Z"
    }
   },
   "cell_type": "code",
   "source": [
    "X = np.array([[1, 1], [1, 2], [1, 3]])  # 设计矩阵，带有常数项\n",
    "y = np.array([1, 2, 3])  # 观测值\n",
    "l1=10\n",
    "# 初始参数\n",
    "beta= np.zeros(X.shape[1])\n",
    "beta=np.full(X.shape[1],1)\n",
    "k = 3\n",
    "lambda_ = 2.5\n",
    "expression = Poissonmethod.poissonexpression(X,beta)\n",
    "probability =Poissonmethod.pmf(k,lambda_)\n",
    "loglikelihood = Poissonmethod.loglikelihood(X,beta,y)\n",
    "MLE=Poissonmethod.MLEwithL1(X,beta,y,l1)\n",
    "gradient=Poissonmethod.gradient(X,beta,y,l1)\n",
    "print(f'P(X = {k}) = {probability}')\n",
    "print(expression)\n",
    "print(loglikelihood)\n",
    "print(MLE)\n",
    "print(beta)\n",
    "print(gradient)"
   ],
   "id": "fd6f6af1b5982e5c",
   "outputs": [
    {
     "name": "stdout",
     "output_type": "stream",
     "text": [
      "P(X = 3) = 0.21376301724973645\n",
      "[ 7.3890561  20.08553692 54.59815003]\n",
      "-64.55764970505055\n",
      "84.55764970505055\n",
      "[1 1]\n",
      "[ 86.07274306 207.35458004]\n"
     ]
    }
   ],
   "execution_count": 29
  },
  {
   "metadata": {},
   "cell_type": "code",
   "outputs": [],
   "execution_count": null,
   "source": "",
   "id": "665c1107bb362c3"
  }
 ],
 "metadata": {
  "kernelspec": {
   "display_name": "Python 3",
   "language": "python",
   "name": "python3"
  },
  "language_info": {
   "codemirror_mode": {
    "name": "ipython",
    "version": 2
   },
   "file_extension": ".py",
   "mimetype": "text/x-python",
   "name": "python",
   "nbconvert_exporter": "python",
   "pygments_lexer": "ipython2",
   "version": "2.7.6"
  }
 },
 "nbformat": 4,
 "nbformat_minor": 5
}
